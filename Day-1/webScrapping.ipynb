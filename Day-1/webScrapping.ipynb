{
  "cells": [
    {
      "cell_type": "markdown",
      "metadata": {
        "id": "NXb_drURqhdp"
      },
      "source": [
        "# **Practice Lab : Let's scrap data from wikipedia**"
      ]
    },
    {
      "cell_type": "code",
      "execution_count": 23,
      "metadata": {
        "id": "JTyRas7b2r3n"
      },
      "outputs": [],
      "source": [
        "from bs4 import BeautifulSoup # for parsing HTML data\n",
        "import requests # send HTTP requests"
      ]
    },
    {
      "cell_type": "code",
      "execution_count": 24,
      "metadata": {
        "id": "z1HXXjid2uln"
      },
      "outputs": [],
      "source": [
        "url = 'https://en.wikipedia.org/wiki/Nepal'"
      ]
    },
    {
      "cell_type": "code",
      "execution_count": 25,
      "metadata": {
        "id": "1tlC-e5E2v0m"
      },
      "outputs": [],
      "source": [
        "page = requests.get(url)\n",
        "\n",
        "soup = BeautifulSoup(page.text, 'html')"
      ]
    },
    {
      "cell_type": "code",
      "execution_count": 26,
      "metadata": {
        "id": "NlFWGbMS2xSI"
      },
      "outputs": [
        {
          "name": "stdout",
          "output_type": "stream",
          "text": [
            "Page fetched successfully!\n"
          ]
        }
      ],
      "source": [
        "if page.status_code == 200:\n",
        "    print(\"Page fetched successfully!\")\n",
        "else:\n",
        "    print(f\"Failed to fetch page: {page.status_code}\")"
      ]
    },
    {
      "cell_type": "code",
      "execution_count": null,
      "metadata": {
        "id": "ffxxlZ4-ipNJ"
      },
      "outputs": [],
      "source": [
        "# Display the soup value\n",
        "print(soup)"
      ]
    },
    {
      "cell_type": "code",
      "execution_count": null,
      "metadata": {
        "id": "7ilvjOxbjasK"
      },
      "outputs": [],
      "source": [
        "# Display any text of HTML\n",
        "# use find and findall\n",
        "soup.find_all('p')"
      ]
    },
    {
      "cell_type": "code",
      "execution_count": null,
      "metadata": {
        "id": "eG3jhqM5kbFu"
      },
      "outputs": [],
      "source": [
        "# display 'p' tag using find_all and use strip to remove unwanted space\n",
        "all_para = soup.find_all('p')\n",
        "for each_para in all_para:\n",
        "    print(each_para)"
      ]
    },
    {
      "cell_type": "code",
      "execution_count": null,
      "metadata": {
        "id": "7pdPFrEbkgNd"
      },
      "outputs": [],
      "source": [
        "# target all table tag and target our desired table (using class attribute)\n",
        "table_data = soup.find('table', class_=\"wikitable sortable\")\n",
        "table_data"
      ]
    },
    {
      "cell_type": "code",
      "execution_count": null,
      "metadata": {
        "id": "qB-SI7VIksuk"
      },
      "outputs": [],
      "source": [
        "# fetch all the header of that table\n",
        "table_header = table_data.find_all('th')\n",
        "for each_header in table_header:\n",
        "    print(each_header.text)\n"
      ]
    },
    {
      "cell_type": "code",
      "execution_count": 45,
      "metadata": {},
      "outputs": [
        {
          "name": "stdout",
          "output_type": "stream",
          "text": [
            "[['Koshi Province', 'Biratnagar', '14', '25,905', '4,534,943', '4,972,021', '192', '0.553', '\\n'], ['Madhesh Province', 'Janakpur', '8', '9,661', '5,404,145', '6,126,288', '634', '0.485', '\\n'], ['Bagmati Province', 'Hetauda', '13', '20,300', '5,529,452', '6,084,042', '300', '0.560', '\\n'], ['Gandaki Province', 'Pokhara', '11', '21,856', '2,403,757', '2,479,745', '113', '0.567', '\\n'], ['Lumbini Province', 'Deukhuri', '12', '19,707', '4,499,272', '5,124,225', '260', '0.519', '\\n'], ['Karnali Province', 'Birendranagar', '10', '30,213', '1,570,418', '1,694,889', '56', '0.469', '\\n'], ['Sudurpashchim Province', 'Godawari', '9', '19,539', '2,552,517', '2,711,270', '139', '0.478', '\\n'], []]\n"
          ]
        }
      ],
      "source": [
        "#fetch rows and the data from the table\n",
        "data =[]\n",
        "for row in table_data.find_all('tr')[1:]:\n",
        "    cells = row.find_all('td')\n",
        "    data.append([cell.text for cell in cells])\n",
        "print(data)"
      ]
    },
    {
      "cell_type": "code",
      "execution_count": 50,
      "metadata": {
        "id": "qshdeTrmlnPr"
      },
      "outputs": [
        {
          "name": "stdout",
          "output_type": "stream",
          "text": [
            "['Province\\n', 'Capital\\n', 'Districts\\n', 'Area(km2)\\n', 'PopulationCensus2011\\n', 'PopulationCensus2021\\n', 'Density(people/km2)2021\\n', 'HumanDevelopmentIndex\\n', 'Map\\n', 'Nepal\\n', 'Kathmandu\\n', '77\\n', '147,181\\n', '26,494,504\\n', '29,192,480\\n', '198\\n', '0.579\\n', '\\n']\n"
          ]
        }
      ],
      "source": [
        "# convert that header into list\n",
        "header_list = []\n",
        "for each_header in table_header:\n",
        "    header_list.append(each_header.text)\n",
        "print(header_list)\n"
      ]
    },
    {
      "cell_type": "code",
      "execution_count": 51,
      "metadata": {
        "id": "-_KXjUO_luzS"
      },
      "outputs": [],
      "source": [
        "# Remove unwanted header from that list\n",
        "import pandas as pd\n",
        "df = pd.DataFrame(data,columns=header_list)"
      ]
    },
    {
      "cell_type": "code",
      "execution_count": null,
      "metadata": {
        "id": "iAHOCqQHo3Ep"
      },
      "outputs": [
        {
          "data": {
            "text/html": [
              "<div>\n",
              "<style scoped>\n",
              "    .dataframe tbody tr th:only-of-type {\n",
              "        vertical-align: middle;\n",
              "    }\n",
              "\n",
              "    .dataframe tbody tr th {\n",
              "        vertical-align: top;\n",
              "    }\n",
              "\n",
              "    .dataframe thead th {\n",
              "        text-align: right;\n",
              "    }\n",
              "</style>\n",
              "<table border=\"1\" class=\"dataframe\">\n",
              "  <thead>\n",
              "    <tr style=\"text-align: right;\">\n",
              "      <th></th>\n",
              "      <th>\\nProvince\\n\\nCapital\\n\\nDistricts\\n\\nArea(km2)\\n\\nPopulationCensus2011\\n\\nPopulationCensus2021\\n\\nDensity(people/km2)2021\\n\\nHumanDevelopmentIndex\\n\\nMap\\n</th>\n",
              "      <th>\\nKoshi Province\\nBiratnagar\\n14\\n25,905\\n4,534,943\\n4,972,021\\n192\\n0.553\\n\\n</th>\n",
              "      <th>\\nMadhesh Province\\nJanakpur\\n8\\n9,661\\n5,404,145\\n6,126,288\\n634\\n0.485\\n\\n</th>\n",
              "      <th>\\nBagmati Province\\nHetauda\\n13\\n20,300\\n5,529,452\\n6,084,042\\n300\\n0.560\\n\\n</th>\n",
              "      <th>\\nGandaki Province\\nPokhara\\n11\\n21,856\\n2,403,757\\n2,479,745\\n113\\n0.567\\n\\n</th>\n",
              "      <th>\\nLumbini Province\\nDeukhuri\\n12\\n19,707\\n4,499,272\\n5,124,225\\n260\\n0.519\\n\\n</th>\n",
              "      <th>\\nKarnali Province\\nBirendranagar\\n10\\n30,213\\n1,570,418\\n1,694,889\\n56\\n0.469\\n\\n</th>\n",
              "      <th>\\nSudurpashchim Province\\nGodawari\\n9\\n19,539\\n2,552,517\\n2,711,270\\n139\\n0.478\\n\\n</th>\n",
              "      <th>\\nNepal\\n\\nKathmandu\\n\\n77\\n\\n147,181\\n\\n26,494,504\\n\\n29,192,480\\n\\n198\\n\\n0.579\\n\\n\\n</th>\n",
              "    </tr>\n",
              "  </thead>\n",
              "  <tbody>\n",
              "  </tbody>\n",
              "</table>\n",
              "</div>"
            ],
            "text/plain": [
              "Empty DataFrame\n",
              "Columns: [\n",
              "Province\n",
              "\n",
              "Capital\n",
              "\n",
              "Districts\n",
              "\n",
              "Area(km2)\n",
              "\n",
              "PopulationCensus2011\n",
              "\n",
              "PopulationCensus2021\n",
              "\n",
              "Density(people/km2)2021\n",
              "\n",
              "HumanDevelopmentIndex\n",
              "\n",
              "Map\n",
              ", \n",
              "Koshi Province\n",
              "Biratnagar\n",
              "14\n",
              "25,905\n",
              "4,534,943\n",
              "4,972,021\n",
              "192\n",
              "0.553\n",
              "\n",
              ", \n",
              "Madhesh Province\n",
              "Janakpur\n",
              "8\n",
              "9,661\n",
              "5,404,145\n",
              "6,126,288\n",
              "634\n",
              "0.485\n",
              "\n",
              ", \n",
              "Bagmati Province\n",
              "Hetauda\n",
              "13\n",
              "20,300\n",
              "5,529,452\n",
              "6,084,042\n",
              "300\n",
              "0.560\n",
              "\n",
              ", \n",
              "Gandaki Province\n",
              "Pokhara\n",
              "11\n",
              "21,856\n",
              "2,403,757\n",
              "2,479,745\n",
              "113\n",
              "0.567\n",
              "\n",
              ", \n",
              "Lumbini Province\n",
              "Deukhuri\n",
              "12\n",
              "19,707\n",
              "4,499,272\n",
              "5,124,225\n",
              "260\n",
              "0.519\n",
              "\n",
              ", \n",
              "Karnali Province\n",
              "Birendranagar\n",
              "10\n",
              "30,213\n",
              "1,570,418\n",
              "1,694,889\n",
              "56\n",
              "0.469\n",
              "\n",
              ", \n",
              "Sudurpashchim Province\n",
              "Godawari\n",
              "9\n",
              "19,539\n",
              "2,552,517\n",
              "2,711,270\n",
              "139\n",
              "0.478\n",
              "\n",
              ", \n",
              "Nepal\n",
              "\n",
              "Kathmandu\n",
              "\n",
              "77\n",
              "\n",
              "147,181\n",
              "\n",
              "26,494,504\n",
              "\n",
              "29,192,480\n",
              "\n",
              "198\n",
              "\n",
              "0.579\n",
              "\n",
              "\n",
              "]\n",
              "Index: []"
            ]
          },
          "execution_count": 14,
          "metadata": {},
          "output_type": "execute_result"
        }
      ],
      "source": [
        "# convert list into dataframe\n",
        "df"
      ]
    },
    {
      "cell_type": "code",
      "execution_count": 52,
      "metadata": {
        "id": "N-pOiFrtpYqG"
      },
      "outputs": [],
      "source": [
        "# Append the content of that header into dataframe by targeting all table row\n",
        "df.to_csv('ml2.csv', index=True)"
      ]
    },
    {
      "cell_type": "code",
      "execution_count": 16,
      "metadata": {
        "id": "Df97PqoFrFKS"
      },
      "outputs": [],
      "source": [
        "# Now Append the table data to the dataframe"
      ]
    },
    {
      "cell_type": "code",
      "execution_count": 17,
      "metadata": {
        "id": "LmtZRFxFrKaB"
      },
      "outputs": [],
      "source": [
        "# Download the dataframe as csv"
      ]
    }
  ],
  "metadata": {
    "colab": {
      "provenance": []
    },
    "kernelspec": {
      "display_name": "mlworkshop",
      "language": "python",
      "name": "python3"
    },
    "language_info": {
      "codemirror_mode": {
        "name": "ipython",
        "version": 3
      },
      "file_extension": ".py",
      "mimetype": "text/x-python",
      "name": "python",
      "nbconvert_exporter": "python",
      "pygments_lexer": "ipython3",
      "version": "3.13.0"
    }
  },
  "nbformat": 4,
  "nbformat_minor": 0
}
